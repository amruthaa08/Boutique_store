{
 "cells": [
  {
   "cell_type": "markdown",
   "id": "41396ab3",
   "metadata": {},
   "source": [
    "# Environment variables setup"
   ]
  },
  {
   "cell_type": "code",
   "execution_count": 2,
   "id": "a2b17fcf",
   "metadata": {},
   "outputs": [],
   "source": [
    "from secret_key import api_key\n",
    "import os\n",
    "os.environ[\"OPENAI_API_KEY\"] = api_key"
   ]
  },
  {
   "cell_type": "markdown",
   "id": "b1da098b",
   "metadata": {},
   "source": [
    "# Using Naive Prompts"
   ]
  },
  {
   "cell_type": "code",
   "execution_count": 3,
   "id": "61072069",
   "metadata": {},
   "outputs": [],
   "source": [
    "from langchain.llms import OpenAI"
   ]
  },
  {
   "cell_type": "code",
   "execution_count": 7,
   "id": "941cffa5",
   "metadata": {},
   "outputs": [
    {
     "data": {
      "text/plain": [
       "' shop\\n\\n\"The Indian Closet\"'"
      ]
     },
     "execution_count": 7,
     "metadata": {},
     "output_type": "execute_result"
    }
   ],
   "source": [
    "# naive prompting\n",
    "llm = OpenAI(temperature=0.6)\n",
    "name = llm(\"I want to open an Indian dress shop. Suggest a fancy name for this\")\n",
    "name"
   ]
  },
  {
   "cell_type": "markdown",
   "id": "c0a8255d",
   "metadata": {},
   "source": [
    "# Working with Prompt Templates"
   ]
  },
  {
   "cell_type": "code",
   "execution_count": 8,
   "id": "fb37fce2",
   "metadata": {},
   "outputs": [
    {
     "data": {
      "text/plain": [
       "'I want to open a dress boutique for Arabic clothes. Suggest a fancy name for this.'"
      ]
     },
     "execution_count": 8,
     "metadata": {},
     "output_type": "execute_result"
    }
   ],
   "source": [
    "# creating prompt template\n",
    "from langchain.prompts import PromptTemplate\n",
    "\n",
    "prompt_template = PromptTemplate(\n",
    "    input_variables = [\"origin\"],\n",
    "    template = \"I want to open a dress boutique for {origin} clothes. Suggest a fancy name for this.\"\n",
    ")\n",
    "\n",
    "# prompt generated using template\n",
    "prompt_template.format(origin = \"Arabic\")"
   ]
  },
  {
   "cell_type": "markdown",
   "id": "3e9da04b",
   "metadata": {},
   "source": [
    "# Using LLMChains"
   ]
  },
  {
   "cell_type": "code",
   "execution_count": 9,
   "id": "58a2b51b",
   "metadata": {},
   "outputs": [
    {
     "data": {
      "text/plain": [
       "'\\n\\nDressed to Impress Boutique'"
      ]
     },
     "execution_count": 9,
     "metadata": {},
     "output_type": "execute_result"
    }
   ],
   "source": [
    "from langchain.chains import LLMChain\n",
    "\n",
    "# creating chain = llm + prompt_template\n",
    "chain = LLMChain(llm=llm, prompt = prompt_template)\n",
    "\n",
    "# inference with LLMChain, by passing input variables\n",
    "chain.run(\"American\")"
   ]
  },
  {
   "cell_type": "markdown",
   "id": "dfa36250",
   "metadata": {},
   "source": [
    "# Sequential Chaining"
   ]
  },
  {
   "cell_type": "code",
   "execution_count": 10,
   "id": "e868e9d5",
   "metadata": {},
   "outputs": [],
   "source": [
    "llm = OpenAI(temperature=0.6)\n",
    "\n",
    "prompt_template_name = PromptTemplate(\n",
    "    input_variables = [\"origin\"],\n",
    "    template=\"I want to open a dress boutique for {origin} clothes. Suggest a fancy name for this.\"\n",
    ")\n",
    "\n",
    "name_chain = LLMChain(llm=llm, prompt=prompt_template_name)\n",
    "\n",
    "prompt_template_items = PromptTemplate(\n",
    "    input_variables=[\"boutique_name\"],\n",
    "    template=\"\"\"Suggest some dress items for {boutique_name}.\n",
    "                Return it as comma separated values\"\"\"\n",
    ")\n",
    "\n",
    "items_chain = LLMChain(llm=llm, prompt=prompt_template_items)"
   ]
  },
  {
   "cell_type": "code",
   "execution_count": 11,
   "id": "bc0c0577",
   "metadata": {},
   "outputs": [
    {
     "name": "stderr",
     "output_type": "stream",
     "text": [
      "Retrying langchain.llms.openai.completion_with_retry.<locals>._completion_with_retry in 4.0 seconds as it raised APIConnectionError: Error communicating with OpenAI: ('Connection aborted.', ConnectionResetError(10054, 'An existing connection was forcibly closed by the remote host', None, 10054, None)).\n"
     ]
    },
    {
     "data": {
      "text/plain": [
       "'\\n\\nSilk sarees, Benarasi sarees, Chanderi sarees, Kalamkari sarees, Kanjeevaram sarees, Lehenga sarees, Patiala salwar suits, Anarkali suits, Bandhani sarees, Bollywood sarees.'"
      ]
     },
     "execution_count": 11,
     "metadata": {},
     "output_type": "execute_result"
    }
   ],
   "source": [
    "from langchain.chains import SimpleSequentialChain\n",
    "\n",
    "chain = SimpleSequentialChain(chains = [name_chain, items_chain])\n",
    "response = chain.run(\"Indian\")\n",
    "response"
   ]
  },
  {
   "cell_type": "markdown",
   "id": "d4a57f78",
   "metadata": {},
   "source": [
    "With SimpleSequentialChains, recieve only a single output"
   ]
  },
  {
   "cell_type": "markdown",
   "id": "fa0ba52b",
   "metadata": {},
   "source": [
    "# Using SequentialChains"
   ]
  },
  {
   "cell_type": "code",
   "execution_count": 13,
   "id": "4519c66f",
   "metadata": {},
   "outputs": [],
   "source": [
    "llm = OpenAI(temperature=0.6)\n",
    "\n",
    "prompt_template_name = PromptTemplate(\n",
    "    input_variables=[\"origin\"], \n",
    "    template=\"I want to open a dress boutique for {origin} dresses. Suggest a fancy name for this.\"\n",
    ")\n",
    "\n",
    "name_chain = LLMChain(llm=llm, prompt=prompt_template_name, output_key=\"boutique_name\")\n",
    "\n",
    "prompt_template_items = PromptTemplate(\n",
    "    input_variables=[\"boutique_name\", \"origin\"],\n",
    "    template=\"\"\"Suggest some {origin} dress items for {boutique_name}.\n",
    "                Return it as comma separated values\"\"\"\n",
    ")\n",
    "\n",
    "items_chain = LLMChain(llm=llm, prompt=prompt_template_items, output_key=\"dress_items\")"
   ]
  },
  {
   "cell_type": "code",
   "execution_count": 14,
   "id": "45fb7e05",
   "metadata": {},
   "outputs": [
    {
     "data": {
      "text/plain": [
       "{'origin': 'Arabic',\n",
       " 'boutique_name': '\\n\\nAl-Firdaws Couture Boutique',\n",
       " 'dress_items': '\\n\\nAbaya, Hijab, Jalabiya, Kaftan, Sheyla, Bisht, Dishdasha, Thawb, Sirwal, Sartoura'}"
      ]
     },
     "execution_count": 14,
     "metadata": {},
     "output_type": "execute_result"
    }
   ],
   "source": [
    "from langchain.chains import SequentialChain\n",
    "\n",
    "chain = SequentialChain(\n",
    "    chains = [name_chain, items_chain],\n",
    "    input_variables = [\"origin\"],\n",
    "    output_variables = [\"boutique_name\", \"dress_items\"]\n",
    ")\n",
    "\n",
    "chain({\"origin\": \"Arabic\"})"
   ]
  },
  {
   "cell_type": "code",
   "execution_count": null,
   "id": "e1a1a49e",
   "metadata": {},
   "outputs": [],
   "source": []
  }
 ],
 "metadata": {
  "kernelspec": {
   "display_name": "gen_ai",
   "language": "python",
   "name": "gen_ai"
  },
  "language_info": {
   "codemirror_mode": {
    "name": "ipython",
    "version": 3
   },
   "file_extension": ".py",
   "mimetype": "text/x-python",
   "name": "python",
   "nbconvert_exporter": "python",
   "pygments_lexer": "ipython3",
   "version": "3.11.5"
  }
 },
 "nbformat": 4,
 "nbformat_minor": 5
}
